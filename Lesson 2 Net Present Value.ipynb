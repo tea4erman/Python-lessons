{
 "cells": [
  {
   "cell_type": "code",
   "execution_count": 2,
   "id": "213796f0",
   "metadata": {},
   "outputs": [],
   "source": [
    "import numpy as np\n",
    "import pandas as pd"
   ]
  },
  {
   "cell_type": "code",
   "execution_count": 9,
   "id": "c39436d6",
   "metadata": {},
   "outputs": [],
   "source": [
    "def present_value(cash_flow, interest):\n",
    "    cash_flow = np.asarray(cash_flow)\n",
    "    if not np.issubdtype(np.array(cash_flow).dtype, np.number):\n",
    "        raise ValueError('Cash flow must contain only numeric values')\n",
    "    if interest <= 0:\n",
    "        raise ValueError('Interest must be non-negative number')\n",
    "    n = len(cash_flow)\n",
    "    if n == 0:\n",
    "        raise ValueError('Cash flow must contain at least one element')\n",
    "    t = np.arange(0, n) + 1\n",
    "    multiples = np.power(np.ones(n)*(1/(1+interest)) , t)\n",
    "    pv = sum(cash_flow * multiples)\n",
    "    return pv"
   ]
  },
  {
   "cell_type": "code",
   "execution_count": 6,
   "id": "48fc861b",
   "metadata": {},
   "outputs": [],
   "source": [
    "def net_present_value(cash_flow, interest):\n",
    "    cash_flow = np.asarray(cash_flow)\n",
    "    if not np.issubdtype(np.array(cash_flow).dtype, np.number):\n",
    "        raise ValueError('Cash flow must contain only numeric values')\n",
    "    if interest <= 0:\n",
    "        raise ValueError('Interest must be non-negative number')\n",
    "    n = len(cash_flow)\n",
    "    if n == 0:\n",
    "        raise ValueError('Cash flow must contain at least one element')\n",
    "    t = np.arange(0, n)\n",
    "    multiples = np.power(np.ones(n)*(1/(1+interest)) , t)\n",
    "    npv = sum(cash_flow * multiples)\n",
    "    return npv"
   ]
  },
  {
   "cell_type": "code",
   "execution_count": 8,
   "id": "757ca5dd",
   "metadata": {},
   "outputs": [
    {
     "data": {
      "text/plain": [
       "176.0775490057014"
      ]
     },
     "execution_count": 8,
     "metadata": {},
     "output_type": "execute_result"
    }
   ],
   "source": [
    "cf = [-1500, 500, 500, 500, 500, 500]\n",
    "r = 0.15\n",
    "net_present_value(cf, r)"
   ]
  },
  {
   "cell_type": "code",
   "execution_count": 10,
   "id": "58346020",
   "metadata": {},
   "outputs": [
    {
     "data": {
      "text/plain": [
       "176.07754900570148"
      ]
     },
     "execution_count": 10,
     "metadata": {},
     "output_type": "execute_result"
    }
   ],
   "source": [
    "cf = [-1500, 500, 500, 500, 500, 500]\n",
    "r = 0.15\n",
    "present_value(cf[1:], r) + cf[0]"
   ]
  },
  {
   "cell_type": "code",
   "execution_count": 11,
   "id": "f4dfaf54",
   "metadata": {},
   "outputs": [
    {
     "name": "stdout",
     "output_type": "stream",
     "text": [
      "Collecting numpy-financial\n",
      "  Downloading numpy_financial-1.0.0-py3-none-any.whl (14 kB)\n",
      "Requirement already satisfied: numpy>=1.15 in c:\\anaconda\\lib\\site-packages (from numpy-financial) (1.24.3)\n",
      "Installing collected packages: numpy-financial\n",
      "Successfully installed numpy-financial-1.0.0\n",
      "Note: you may need to restart the kernel to use updated packages.\n"
     ]
    }
   ],
   "source": [
    "pip install numpy-financial"
   ]
  },
  {
   "cell_type": "code",
   "execution_count": 12,
   "id": "817e472e",
   "metadata": {},
   "outputs": [],
   "source": [
    "import numpy_financial as npf"
   ]
  },
  {
   "cell_type": "code",
   "execution_count": 14,
   "id": "32df5654",
   "metadata": {},
   "outputs": [
    {
     "data": {
      "text/plain": [
       "176.0775490057013"
      ]
     },
     "execution_count": 14,
     "metadata": {},
     "output_type": "execute_result"
    }
   ],
   "source": [
    "npf.npv(r, cf)"
   ]
  }
 ],
 "metadata": {
  "kernelspec": {
   "display_name": "Python 3 (ipykernel)",
   "language": "python",
   "name": "python3"
  },
  "language_info": {
   "codemirror_mode": {
    "name": "ipython",
    "version": 3
   },
   "file_extension": ".py",
   "mimetype": "text/x-python",
   "name": "python",
   "nbconvert_exporter": "python",
   "pygments_lexer": "ipython3",
   "version": "3.11.5"
  }
 },
 "nbformat": 4,
 "nbformat_minor": 5
}
