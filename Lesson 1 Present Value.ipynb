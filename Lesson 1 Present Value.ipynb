{
 "cells": [
  {
   "cell_type": "code",
   "execution_count": 1,
   "id": "213796f0",
   "metadata": {},
   "outputs": [],
   "source": [
    "import numpy as np\n",
    "import pandas as pd"
   ]
  },
  {
   "cell_type": "code",
   "execution_count": 46,
   "id": "48fc861b",
   "metadata": {},
   "outputs": [],
   "source": [
    "def present_value(cash_flow, interest):\n",
    "    cash_flow = np.asarray(cash_flow)\n",
    "    if not np.issubdtype(np.array(cash_flow).dtype, np.number):\n",
    "        raise ValueError('Cash flow must contain only numeric values')\n",
    "    if interest <= 0:\n",
    "        raise ValueError('Interest must be non-negative number')\n",
    "    n = len(cash_flow)\n",
    "    if n == 0:\n",
    "        raise ValueError('Cash flow must contain at least one element')\n",
    "    t = np.arange(0, n) + 1 \n",
    "    multiples = np.power(np.ones(n)*(1/(1+interest)) , t)\n",
    "    pv = sum(cash_flow * multiples)\n",
    "    return pv"
   ]
  },
  {
   "cell_type": "code",
   "execution_count": 47,
   "id": "b279dcf7",
   "metadata": {},
   "outputs": [
    {
     "data": {
      "text/plain": [
       "1676.0775490057015"
      ]
     },
     "execution_count": 47,
     "metadata": {},
     "output_type": "execute_result"
    }
   ],
   "source": [
    "# Корректная работа\n",
    "cf = [500, 500, 500, 500, 500]\n",
    "r = 0.15\n",
    "\n",
    "present_value(cf, r)"
   ]
  },
  {
   "cell_type": "code",
   "execution_count": 48,
   "id": "1cff5a0c",
   "metadata": {},
   "outputs": [
    {
     "ename": "ValueError",
     "evalue": "Interest must be non-negative number",
     "output_type": "error",
     "traceback": [
      "\u001b[1;31m---------------------------------------------------------------------------\u001b[0m",
      "\u001b[1;31mValueError\u001b[0m                                Traceback (most recent call last)",
      "Cell \u001b[1;32mIn[48], line 5\u001b[0m\n\u001b[0;32m      2\u001b[0m cf \u001b[38;5;241m=\u001b[39m [\u001b[38;5;241m500\u001b[39m, \u001b[38;5;241m500\u001b[39m, \u001b[38;5;241m500\u001b[39m, \u001b[38;5;241m500\u001b[39m, \u001b[38;5;241m500\u001b[39m]\n\u001b[0;32m      3\u001b[0m r \u001b[38;5;241m=\u001b[39m \u001b[38;5;241m-\u001b[39m\u001b[38;5;241m0.15\u001b[39m\n\u001b[1;32m----> 5\u001b[0m present_value(cf, r)\n",
      "Cell \u001b[1;32mIn[46], line 6\u001b[0m, in \u001b[0;36mpresent_value\u001b[1;34m(cash_flow, interest)\u001b[0m\n\u001b[0;32m      4\u001b[0m     \u001b[38;5;28;01mraise\u001b[39;00m \u001b[38;5;167;01mValueError\u001b[39;00m(\u001b[38;5;124m'\u001b[39m\u001b[38;5;124mCash flow must contain only numeric values\u001b[39m\u001b[38;5;124m'\u001b[39m)\n\u001b[0;32m      5\u001b[0m \u001b[38;5;28;01mif\u001b[39;00m interest \u001b[38;5;241m<\u001b[39m\u001b[38;5;241m=\u001b[39m \u001b[38;5;241m0\u001b[39m:\n\u001b[1;32m----> 6\u001b[0m     \u001b[38;5;28;01mraise\u001b[39;00m \u001b[38;5;167;01mValueError\u001b[39;00m(\u001b[38;5;124m'\u001b[39m\u001b[38;5;124mInterest must be non-negative number\u001b[39m\u001b[38;5;124m'\u001b[39m)\n\u001b[0;32m      7\u001b[0m n \u001b[38;5;241m=\u001b[39m \u001b[38;5;28mlen\u001b[39m(cash_flow)\n\u001b[0;32m      8\u001b[0m \u001b[38;5;28;01mif\u001b[39;00m n \u001b[38;5;241m==\u001b[39m \u001b[38;5;241m0\u001b[39m:\n",
      "\u001b[1;31mValueError\u001b[0m: Interest must be non-negative number"
     ]
    }
   ],
   "source": [
    "# Процентная ставка негативная\n",
    "cf = [500, 500, 500, 500, 500]\n",
    "r = -0.15\n",
    "\n",
    "present_value(cf, r)"
   ]
  },
  {
   "cell_type": "code",
   "execution_count": 50,
   "id": "b5323dc7",
   "metadata": {},
   "outputs": [
    {
     "ename": "ValueError",
     "evalue": "Cash flow must contain only numeric values",
     "output_type": "error",
     "traceback": [
      "\u001b[1;31m---------------------------------------------------------------------------\u001b[0m",
      "\u001b[1;31mValueError\u001b[0m                                Traceback (most recent call last)",
      "Cell \u001b[1;32mIn[50], line 5\u001b[0m\n\u001b[0;32m      2\u001b[0m cf \u001b[38;5;241m=\u001b[39m [\u001b[38;5;241m500\u001b[39m, \u001b[38;5;241m500\u001b[39m, \u001b[38;5;28;01mNone\u001b[39;00m, \u001b[38;5;241m500\u001b[39m, \u001b[38;5;124m'\u001b[39m\u001b[38;5;124m500\u001b[39m\u001b[38;5;124m'\u001b[39m]\n\u001b[0;32m      3\u001b[0m r \u001b[38;5;241m=\u001b[39m \u001b[38;5;241m0.15\u001b[39m\n\u001b[1;32m----> 5\u001b[0m present_value(cf, r)\n",
      "Cell \u001b[1;32mIn[46], line 4\u001b[0m, in \u001b[0;36mpresent_value\u001b[1;34m(cash_flow, interest)\u001b[0m\n\u001b[0;32m      2\u001b[0m cash_flow \u001b[38;5;241m=\u001b[39m np\u001b[38;5;241m.\u001b[39masarray(cash_flow)\n\u001b[0;32m      3\u001b[0m \u001b[38;5;28;01mif\u001b[39;00m \u001b[38;5;129;01mnot\u001b[39;00m np\u001b[38;5;241m.\u001b[39missubdtype(np\u001b[38;5;241m.\u001b[39marray(cash_flow)\u001b[38;5;241m.\u001b[39mdtype, np\u001b[38;5;241m.\u001b[39mnumber):\n\u001b[1;32m----> 4\u001b[0m     \u001b[38;5;28;01mraise\u001b[39;00m \u001b[38;5;167;01mValueError\u001b[39;00m(\u001b[38;5;124m'\u001b[39m\u001b[38;5;124mCash flow must contain only numeric values\u001b[39m\u001b[38;5;124m'\u001b[39m)\n\u001b[0;32m      5\u001b[0m \u001b[38;5;28;01mif\u001b[39;00m interest \u001b[38;5;241m<\u001b[39m\u001b[38;5;241m=\u001b[39m \u001b[38;5;241m0\u001b[39m:\n\u001b[0;32m      6\u001b[0m     \u001b[38;5;28;01mraise\u001b[39;00m \u001b[38;5;167;01mValueError\u001b[39;00m(\u001b[38;5;124m'\u001b[39m\u001b[38;5;124mInterest must be non-negative number\u001b[39m\u001b[38;5;124m'\u001b[39m)\n",
      "\u001b[1;31mValueError\u001b[0m: Cash flow must contain only numeric values"
     ]
    }
   ],
   "source": [
    "# Нечисловые значения в денежном потоке\n",
    "cf = [500, 500, None, 500, '500']\n",
    "r = 0.15\n",
    "\n",
    "present_value(cf, r)"
   ]
  },
  {
   "cell_type": "code",
   "execution_count": 51,
   "id": "c90e3a01",
   "metadata": {},
   "outputs": [
    {
     "ename": "ValueError",
     "evalue": "Cash flow must contain at least one element",
     "output_type": "error",
     "traceback": [
      "\u001b[1;31m---------------------------------------------------------------------------\u001b[0m",
      "\u001b[1;31mValueError\u001b[0m                                Traceback (most recent call last)",
      "Cell \u001b[1;32mIn[51], line 5\u001b[0m\n\u001b[0;32m      2\u001b[0m cf \u001b[38;5;241m=\u001b[39m []\n\u001b[0;32m      3\u001b[0m r \u001b[38;5;241m=\u001b[39m \u001b[38;5;241m0.15\u001b[39m\n\u001b[1;32m----> 5\u001b[0m present_value(cf, r)\n",
      "Cell \u001b[1;32mIn[46], line 9\u001b[0m, in \u001b[0;36mpresent_value\u001b[1;34m(cash_flow, interest)\u001b[0m\n\u001b[0;32m      7\u001b[0m n \u001b[38;5;241m=\u001b[39m \u001b[38;5;28mlen\u001b[39m(cash_flow)\n\u001b[0;32m      8\u001b[0m \u001b[38;5;28;01mif\u001b[39;00m n \u001b[38;5;241m==\u001b[39m \u001b[38;5;241m0\u001b[39m:\n\u001b[1;32m----> 9\u001b[0m     \u001b[38;5;28;01mraise\u001b[39;00m \u001b[38;5;167;01mValueError\u001b[39;00m(\u001b[38;5;124m'\u001b[39m\u001b[38;5;124mCash flow must contain at least one element\u001b[39m\u001b[38;5;124m'\u001b[39m)\n\u001b[0;32m     10\u001b[0m t \u001b[38;5;241m=\u001b[39m np\u001b[38;5;241m.\u001b[39marange(\u001b[38;5;241m0\u001b[39m, n) \u001b[38;5;241m+\u001b[39m \u001b[38;5;241m1\u001b[39m \n\u001b[0;32m     11\u001b[0m multiples \u001b[38;5;241m=\u001b[39m np\u001b[38;5;241m.\u001b[39mpower(np\u001b[38;5;241m.\u001b[39mones(n)\u001b[38;5;241m*\u001b[39m(\u001b[38;5;241m1\u001b[39m\u001b[38;5;241m/\u001b[39m(\u001b[38;5;241m1\u001b[39m\u001b[38;5;241m+\u001b[39minterest)) , t)\n",
      "\u001b[1;31mValueError\u001b[0m: Cash flow must contain at least one element"
     ]
    }
   ],
   "source": [
    "# Нет элементов в cf\n",
    "cf = []\n",
    "r = 0.15\n",
    "\n",
    "present_value(cf, r)"
   ]
  }
 ],
 "metadata": {
  "kernelspec": {
   "display_name": "Python 3 (ipykernel)",
   "language": "python",
   "name": "python3"
  },
  "language_info": {
   "codemirror_mode": {
    "name": "ipython",
    "version": 3
   },
   "file_extension": ".py",
   "mimetype": "text/x-python",
   "name": "python",
   "nbconvert_exporter": "python",
   "pygments_lexer": "ipython3",
   "version": "3.11.5"
  }
 },
 "nbformat": 4,
 "nbformat_minor": 5
}
